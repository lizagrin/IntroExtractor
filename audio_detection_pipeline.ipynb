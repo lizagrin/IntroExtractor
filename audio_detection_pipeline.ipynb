{
 "cells": [
  {
   "cell_type": "markdown",
   "id": "1ab8c721",
   "metadata": {},
   "source": [
    "# Детекция интро и титров по аудио\n",
    "Полный рабочий ноутбук (mel‑спектрограммы+шаблон+логистическая регрессия)"
   ]
  },
  {
   "cell_type": "markdown",
   "id": "a87c0c4e",
   "metadata": {},
   "source": [
    "**Что внутри ноутбука**\n",
    "\n",
    "1. Готовим mel‑спектрограммы (128 полос, шаг 1 с).\n",
    "2. Строим *шаблон* интро для каждого шоу (косинусное сходство).  \n",
    "3. Обучаем логистическую регрессию отличать «музыка заставки/титров» от основного контента.  \n",
    "4. Сглаживаем вероятности и ищем самые длинные цепочки музыки в первых/последних 20% серии.\n",
    "5. Выводим тайм‑коды, метрики и графики.\n"
   ]
  },
  {
   "cell_type": "code",
   "outputs": [],
   "source": [
    "import os, warnings, math, gc, json\n",
    "from pathlib import Path\n",
    "import numpy as np\n",
    "import pandas as pd\n",
    "import librosa, librosa.display\n",
    "import matplotlib.pyplot as plt\n",
    "from tqdm import tqdm\n",
    "from sklearn.preprocessing import StandardScaler\n",
    "from sklearn.linear_model import LogisticRegression\n",
    "from sklearn.metrics import (accuracy_score, precision_score, recall_score,\n",
    "                             f1_score, confusion_matrix)\n",
    "import joblib\n",
    "\n",
    "warnings.filterwarnings('ignore')\n",
    "np.random.seed(42)"
   ],
   "metadata": {
    "collapsed": false,
    "ExecuteTime": {
     "end_time": "2025-06-20T23:30:00.283329Z",
     "start_time": "2025-06-20T23:30:00.268506Z"
    }
   },
   "id": "afa484456df30cde",
   "execution_count": 27
  },
  {
   "cell_type": "code",
   "outputs": [],
   "source": [
    "# директории проекта\n",
    "AUDIO_ROOT = Path('data/audio')  # wav лежат: data/audio/show1/episode.wav\n",
    "LABELS_PATH = Path('data/labels.csv')  # ручная разметка\n",
    "FEAT_DIR = Path('data/audio_features')  # кеш фичей\n",
    "FEAT_DIR.mkdir(parents=True, exist_ok=True)\n",
    "\n",
    "# аудио-параметры\n",
    "SR = 16_000\n",
    "N_MELS = 128\n",
    "HOP_LENGTH = 512\n",
    "FRAMES_PER_SEC = SR / HOP_LENGTH  # 31.25  — для вычислений времени\n",
    "FPS = int(round(FRAMES_PER_SEC))  # 31      — для индексов/reshape"
   ],
   "metadata": {
    "collapsed": false,
    "ExecuteTime": {
     "end_time": "2025-06-20T23:30:00.846310Z",
     "start_time": "2025-06-20T23:30:00.832300Z"
    }
   },
   "id": "acf20a3736daf879",
   "execution_count": 28
  },
  {
   "cell_type": "markdown",
   "source": [
    "## 1. Извлечение мел‑спектрограмм по секундам"
   ],
   "metadata": {
    "collapsed": false
   },
   "id": "1c83544d79fa0df0"
  },
  {
   "cell_type": "code",
   "outputs": [],
   "source": [
    "def extract_mel_per_second(wav_path: Path, save=True):\n",
    "    \"\"\"Возвращает (T×128) массив и длительность T секунд.\n",
    "    Кэшируется в data/audio_features\"\"\"\n",
    "    show, ep = wav_path.parent.name, wav_path.stem\n",
    "    out_np = FEAT_DIR / show / f\"{ep}.npy\"\n",
    "    out_np.parent.mkdir(exist_ok=True, parents=True)\n",
    "\n",
    "    if out_np.exists():\n",
    "        m = np.load(out_np);\n",
    "        return m, m.shape[0]\n",
    "\n",
    "    # ── 1. читаем и строим mel ─────────────────────────────────────\n",
    "    y, _ = librosa.load(wav_path, sr=SR, mono=True)\n",
    "    mel = librosa.feature.melspectrogram(y=y, sr=SR,\n",
    "                                         n_mels=N_MELS,\n",
    "                                         hop_length=HOP_LENGTH,\n",
    "                                         power=2.0)\n",
    "    mel_db = librosa.power_to_db(mel, ref=np.max)\n",
    "\n",
    "    # ── 2. переводим в «кадр-в-секунду» ────────────────────────────\n",
    "    total_secs = int(round(mel_db.shape[1] / FRAMES_PER_SEC))\n",
    "    if total_secs == 0:\n",
    "        raise ValueError(f\"Audio too short: {wav_path}\")\n",
    "\n",
    "    n_frames = total_secs * FPS  # целое!\n",
    "    trim = mel_db[:, : n_frames]\n",
    "    mel_sec = trim.reshape(N_MELS, total_secs, FPS).mean(axis=2).T  # [T,128]\n",
    "\n",
    "    if save:\n",
    "        np.save(out_np, mel_sec.astype(np.float32))\n",
    "    return mel_sec, total_secs"
   ],
   "metadata": {
    "collapsed": false,
    "ExecuteTime": {
     "end_time": "2025-06-20T23:30:02.402132Z",
     "start_time": "2025-06-20T23:30:02.388133Z"
    }
   },
   "id": "df75fd39dfbcd693",
   "execution_count": 29
  },
  {
   "cell_type": "markdown",
   "source": [
    "## 2. Загрузка разметки"
   ],
   "metadata": {
    "collapsed": false
   },
   "id": "41bedc98a18c3d6c"
  },
  {
   "cell_type": "code",
   "outputs": [
    {
     "data": {
      "text/plain": "                                          file start_main  end_main   show  \\\n0  show1/downton-abbey-season-1-episode-02.mp4   00:00:55  00:48:54  show1   \n1  show1/downton-abbey-season-1-episode-03.mp4   00:00:55  00:48:51  show1   \n2  show1/downton-abbey-season-1-episode-04.mp4   00:00:55  00:47:20  show1   \n3  show1/downton-abbey-season-1-episode-05.mp4   00:00:55  00:48:56  show1   \n4  show1/downton-abbey-season-1-episode-06.mp4   00:00:55  00:47:52  show1   \n\n                             episode  start_s  end_s  \n0  downton-abbey-season-1-episode-02       55   2934  \n1  downton-abbey-season-1-episode-03       55   2931  \n2  downton-abbey-season-1-episode-04       55   2840  \n3  downton-abbey-season-1-episode-05       55   2936  \n4  downton-abbey-season-1-episode-06       55   2872  ",
      "text/html": "<div>\n<style scoped>\n    .dataframe tbody tr th:only-of-type {\n        vertical-align: middle;\n    }\n\n    .dataframe tbody tr th {\n        vertical-align: top;\n    }\n\n    .dataframe thead th {\n        text-align: right;\n    }\n</style>\n<table border=\"1\" class=\"dataframe\">\n  <thead>\n    <tr style=\"text-align: right;\">\n      <th></th>\n      <th>file</th>\n      <th>start_main</th>\n      <th>end_main</th>\n      <th>show</th>\n      <th>episode</th>\n      <th>start_s</th>\n      <th>end_s</th>\n    </tr>\n  </thead>\n  <tbody>\n    <tr>\n      <th>0</th>\n      <td>show1/downton-abbey-season-1-episode-02.mp4</td>\n      <td>00:00:55</td>\n      <td>00:48:54</td>\n      <td>show1</td>\n      <td>downton-abbey-season-1-episode-02</td>\n      <td>55</td>\n      <td>2934</td>\n    </tr>\n    <tr>\n      <th>1</th>\n      <td>show1/downton-abbey-season-1-episode-03.mp4</td>\n      <td>00:00:55</td>\n      <td>00:48:51</td>\n      <td>show1</td>\n      <td>downton-abbey-season-1-episode-03</td>\n      <td>55</td>\n      <td>2931</td>\n    </tr>\n    <tr>\n      <th>2</th>\n      <td>show1/downton-abbey-season-1-episode-04.mp4</td>\n      <td>00:00:55</td>\n      <td>00:47:20</td>\n      <td>show1</td>\n      <td>downton-abbey-season-1-episode-04</td>\n      <td>55</td>\n      <td>2840</td>\n    </tr>\n    <tr>\n      <th>3</th>\n      <td>show1/downton-abbey-season-1-episode-05.mp4</td>\n      <td>00:00:55</td>\n      <td>00:48:56</td>\n      <td>show1</td>\n      <td>downton-abbey-season-1-episode-05</td>\n      <td>55</td>\n      <td>2936</td>\n    </tr>\n    <tr>\n      <th>4</th>\n      <td>show1/downton-abbey-season-1-episode-06.mp4</td>\n      <td>00:00:55</td>\n      <td>00:47:52</td>\n      <td>show1</td>\n      <td>downton-abbey-season-1-episode-06</td>\n      <td>55</td>\n      <td>2872</td>\n    </tr>\n  </tbody>\n</table>\n</div>"
     },
     "execution_count": 30,
     "metadata": {},
     "output_type": "execute_result"
    }
   ],
   "source": [
    "def time_to_sec(t):\n",
    "    h, m, s = map(int, t.split(':'))\n",
    "    return h * 3600 + m * 60 + s\n",
    "\n",
    "\n",
    "labels_df = pd.read_csv(LABELS_PATH)\n",
    "labels_df['show'] = labels_df['file'].apply(lambda x: x.split('/')[0])\n",
    "labels_df['episode'] = labels_df['file'].apply(lambda x: Path(x).stem)\n",
    "labels_df['start_s'] = labels_df['start_main'].apply(time_to_sec)\n",
    "labels_df['end_s'] = labels_df['end_main'].apply(time_to_sec)\n",
    "labels_df.head()"
   ],
   "metadata": {
    "collapsed": false,
    "ExecuteTime": {
     "end_time": "2025-06-20T23:30:04.241021Z",
     "start_time": "2025-06-20T23:30:04.225022Z"
    }
   },
   "id": "cb6f4799bad4570e",
   "execution_count": 30
  },
  {
   "cell_type": "markdown",
   "source": [
    "## 3. Формируем датасет «секунда → метка»"
   ],
   "metadata": {
    "collapsed": false
   },
   "id": "da2b22fb917241b8"
  },
  {
   "cell_type": "code",
   "outputs": [
    {
     "name": "stderr",
     "output_type": "stream",
     "text": [
      "mel: 100%|██████████| 19/19 [00:47<00:00,  2.52s/it]"
     ]
    },
    {
     "name": "stdout",
     "output_type": "stream",
     "text": [
      "Всего секунд: 55741\n"
     ]
    },
    {
     "name": "stderr",
     "output_type": "stream",
     "text": [
      "\n"
     ]
    }
   ],
   "source": [
    "samples = []  # (feat128, label, show, ep, t)\n",
    "for _, row in tqdm(labels_df.iterrows(), total=len(labels_df), desc='mel'):\n",
    "    wav = AUDIO_ROOT / row.show / f\"{row.episode}.wav\"\n",
    "    if not wav.exists():\n",
    "        print('Нет файла', wav);\n",
    "        continue\n",
    "    mel_sec, T = extract_mel_per_second(wav)\n",
    "    for t in range(T):\n",
    "        lbl = 1 if (t < row.start_s or t > row.end_s) else 0\n",
    "        samples.append((mel_sec[t], lbl, row.show, row.episode, t))\n",
    "\n",
    "print(\"Всего секунд:\", len(samples))"
   ],
   "metadata": {
    "collapsed": false,
    "ExecuteTime": {
     "end_time": "2025-06-20T23:30:53.894114Z",
     "start_time": "2025-06-20T23:30:05.910496Z"
    }
   },
   "id": "8fad3eb95bd3bdb8",
   "execution_count": 31
  },
  {
   "cell_type": "markdown",
   "source": [
    "## 4. Разделяем эпизоды на train / test"
   ],
   "metadata": {
    "collapsed": false
   },
   "id": "5f57d769b073660e"
  },
  {
   "cell_type": "code",
   "outputs": [
    {
     "name": "stdout",
     "output_type": "stream",
     "text": [
      "(40052, 128) (15689, 128)\n"
     ]
    }
   ],
   "source": [
    "# разрезаем по эпизодам, чтобы не было утечки\n",
    "episodes_by_show = {}\n",
    "for _, _, s, ep, _ in samples:\n",
    "    episodes_by_show.setdefault(s, set()).add(ep)\n",
    "\n",
    "split = {}\n",
    "for show, eps in episodes_by_show.items():\n",
    "    eps = sorted(list(eps))\n",
    "    k = int(0.8 * len(eps))\n",
    "    for e in eps[:k]:\n",
    "        split[(show, e)] = 'train'\n",
    "    for e in eps[k:]:\n",
    "        split[(show, e)] = 'test'\n",
    "\n",
    "mask_train = np.array([split[(s[2], s[3])] == 'train' for s in samples])\n",
    "X = np.stack([s[0] for s in samples])\n",
    "y = np.array([s[1] for s in samples])\n",
    "\n",
    "X_train, X_test = X[mask_train], X[~mask_train]\n",
    "y_train, y_test = y[mask_train], y[~mask_train]\n",
    "print(X_train.shape, X_test.shape)"
   ],
   "metadata": {
    "collapsed": false,
    "ExecuteTime": {
     "end_time": "2025-06-20T23:31:36.633664Z",
     "start_time": "2025-06-20T23:31:36.521619Z"
    }
   },
   "id": "8b4aa45414d112ac",
   "execution_count": 32
  },
  {
   "cell_type": "markdown",
   "source": [
    "## 5. Обучаем логистическую регрессию"
   ],
   "metadata": {
    "collapsed": false
   },
   "id": "709b0d90fa5c0035"
  },
  {
   "cell_type": "code",
   "outputs": [
    {
     "name": "stdout",
     "output_type": "stream",
     "text": [
      "Accuracy 0.8890305309452483\n",
      "Precision 0.16449086161879894\n",
      "Recall 0.6907894736842105\n",
      "F1 0.26571067060312104\n",
      "[[13633  1600]\n",
      " [  141   315]]\n"
     ]
    },
    {
     "data": {
      "text/plain": "['models/audio_logreg.pkl']"
     },
     "execution_count": 33,
     "metadata": {},
     "output_type": "execute_result"
    }
   ],
   "source": [
    "scaler = StandardScaler().fit(X_train)\n",
    "Xtr = scaler.transform(X_train)\n",
    "Xte = scaler.transform(X_test)\n",
    "\n",
    "clf = LogisticRegression(max_iter=1000, class_weight='balanced')\n",
    "clf.fit(Xtr, y_train)\n",
    "\n",
    "p_test = clf.predict_proba(Xte)[:, 1]\n",
    "pred = (p_test > 0.5).astype(int)\n",
    "\n",
    "print(\"Accuracy\", accuracy_score(y_test, pred))\n",
    "print(\"Precision\", precision_score(y_test, pred))\n",
    "print(\"Recall\", recall_score(y_test, pred))\n",
    "print(\"F1\", f1_score(y_test, pred))\n",
    "print(confusion_matrix(y_test, pred))\n",
    "\n",
    "joblib.dump({'scaler': scaler, 'clf': clf}, 'models/audio_logreg.pkl')"
   ],
   "metadata": {
    "collapsed": false,
    "ExecuteTime": {
     "end_time": "2025-06-20T23:31:40.927933Z",
     "start_time": "2025-06-20T23:31:38.825615Z"
    }
   },
   "id": "7256069d80942342",
   "execution_count": 33
  },
  {
   "cell_type": "markdown",
   "source": [
    "## 6. Шаблонное сходство + фьюжинг"
   ],
   "metadata": {
    "collapsed": false
   },
   "id": "e3d18424f04b9415"
  },
  {
   "cell_type": "code",
   "outputs": [],
   "source": [
    "from sklearn.metrics.pairwise import cosine_similarity\n",
    "\n",
    "templates = {}\n",
    "for show in labels_df.show.unique():\n",
    "    row0 = labels_df.query('show==@show').iloc[0]\n",
    "    wav0 = AUDIO_ROOT / show / f\"{row0.episode}.wav\"\n",
    "    mel0, _ = extract_mel_per_second(wav0)\n",
    "    templates[show] = (mel0[:row0.start_s].mean(axis=0, keepdims=True)\n",
    "                       / np.linalg.norm(mel0[:row0.start_s].mean(axis=0) + 1e-9))\n",
    "\n",
    "\n",
    "def audio_probs_episode(show, episode, wav_path):\n",
    "    mel_sec, _ = extract_mel_per_second(wav_path)\n",
    "    ml = clf.predict_proba(scaler.transform(mel_sec))[:, 1]\n",
    "\n",
    "    tpl = templates[show]\n",
    "    sim = cosine_similarity(mel_sec, tpl).ravel()\n",
    "    sim = (sim - sim.min()) / (sim.max() - sim.min() + 1e-8)\n",
    "\n",
    "    prob = 0.7 * ml + 0.3 * sim\n",
    "    return prob\n"
   ],
   "metadata": {
    "collapsed": false,
    "ExecuteTime": {
     "end_time": "2025-06-20T23:31:44.629401Z",
     "start_time": "2025-06-20T23:31:44.611370Z"
    }
   },
   "id": "a05400506881d3c1",
   "execution_count": 34
  },
  {
   "cell_type": "markdown",
   "source": [
    "## 7. Поиск конца интро и начала титров"
   ],
   "metadata": {
    "collapsed": false
   },
   "id": "1b8e7f277cc20cb6"
  },
  {
   "cell_type": "code",
   "outputs": [],
   "source": [
    "def smooth_probs(p, k=5):\n",
    "    return pd.Series(p).rolling(k, center=True, min_periods=1).mean().values\n",
    "\n",
    "\n",
    "def longest_run(mask):\n",
    "    \"\"\"Находит самый длинный непрерывный сегмент True в маске\"\"\"\n",
    "    best_start, best_end = 0, 0\n",
    "    best_len = 0\n",
    "    current_start = None\n",
    "\n",
    "    for i, val in enumerate(mask):\n",
    "        if val:\n",
    "            if current_start is None:\n",
    "                current_start = i\n",
    "        else:\n",
    "            if current_start is not None:\n",
    "                current_len = i - current_start\n",
    "                if current_len > best_len:\n",
    "                    best_len = current_len\n",
    "                    best_start, best_end = current_start, i\n",
    "                current_start = None\n",
    "\n",
    "    # Проверяем последний сегмент\n",
    "    if current_start is not None:\n",
    "        current_len = len(mask) - current_start\n",
    "        if current_len > best_len:\n",
    "            best_start, best_end = current_start, len(mask)\n",
    "\n",
    "    return best_start, best_end\n",
    "\n",
    "\n",
    "def find_last_run(mask, min_len=5):\n",
    "    \"\"\"Находит последний сегмент длиной >= min_len\"\"\"\n",
    "    best_start = None\n",
    "    current_start = None\n",
    "    current_len = 0\n",
    "\n",
    "    for i in range(len(mask) - 1, -1, -1):\n",
    "        if mask[i]:\n",
    "            if current_start is None:\n",
    "                current_start = i\n",
    "            current_len = current_start - i + 1\n",
    "        else:\n",
    "            if current_start is not None and current_len >= min_len:\n",
    "                return i + 1  # начало сегмента\n",
    "            current_start = None\n",
    "            current_len = 0\n",
    "\n",
    "    # Проверяем если сегмент доходит до начала\n",
    "    if current_start is not None and current_len >= min_len:\n",
    "        return current_start - current_len + 1\n",
    "\n",
    "    return None\n",
    "\n",
    "\n",
    "def detect_intro_credit(p, thr_i, thr_c, min_len_intro=5, min_len_credits=5):\n",
    "    p = smooth_probs(p, 5)\n",
    "    T = len(p)\n",
    "\n",
    "    # Детекция интро в первых 25%\n",
    "    zone_i = slice(0, int(0.25 * T))\n",
    "    mask_i = p[zone_i] > thr_i\n",
    "    start_i, end_i = longest_run(mask_i)\n",
    "\n",
    "    # Если найден сегмент достаточной длины\n",
    "    if end_i - start_i >= min_len_intro:\n",
    "        end_intro = end_i\n",
    "    else:\n",
    "        # Эвристика: если не найдено, используем 6% от длительности\n",
    "        end_intro = int(0.06 * T)\n",
    "\n",
    "    # Детекция титров в последних 30%\n",
    "    zone_c = slice(int(0.7 * T), T)\n",
    "    mask_c = p[zone_c] > thr_c\n",
    "\n",
    "    # Ищем последний подходящий сегмент\n",
    "    start_idx = find_last_run(mask_c, min_len_credits)\n",
    "\n",
    "    if start_idx is not None:\n",
    "        start_cred = start_idx + int(0.7 * T)\n",
    "        # Убедимся, что титры не начинаются раньше конца интро\n",
    "        if start_cred < end_intro:\n",
    "            start_cred = int(0.95 * T)\n",
    "    else:\n",
    "        # Эвристика: если не найдено, используем 95% длительности\n",
    "        start_cred = int(0.95 * T)\n",
    "\n",
    "    return end_intro, start_cred"
   ],
   "metadata": {
    "collapsed": false,
    "ExecuteTime": {
     "end_time": "2025-06-20T23:31:45.893255Z",
     "start_time": "2025-06-20T23:31:45.873258Z"
    }
   },
   "id": "51488f0c634f71e",
   "execution_count": 35
  },
  {
   "cell_type": "code",
   "outputs": [
    {
     "name": "stdout",
     "output_type": "stream",
     "text": [
      "thr_intro=0.80  (MAE 6.2s | thr_credit=0.42 (MAE 5.5s)\n"
     ]
    }
   ],
   "source": [
    "def tune_thr_one(target='intro', rows=None, p_space=np.arange(0.2, 0.9, 0.02),\n",
    "                 min_len_credits=5):\n",
    "    best, best_err = None, 1e9\n",
    "    for thr in p_space:\n",
    "        err = []\n",
    "        for _, r in rows.iterrows():\n",
    "            p = audio_probs_episode(r.show, r.episode,\n",
    "                                    AUDIO_ROOT / r.show / f\"{r.episode}.wav\")\n",
    "            # Для титров используем новый min_len_credits\n",
    "            if target == 'credit':\n",
    "                ie, cs = detect_intro_credit(p, thr, thr, min_len_credits=min_len_credits)\n",
    "            else:\n",
    "                ie, cs = detect_intro_credit(p, thr, thr)\n",
    "\n",
    "            err.append(abs(ie - r.start_s) if target == 'intro'\n",
    "                       else abs(cs - r.end_s))\n",
    "        m = np.mean(err)\n",
    "        if m < best_err:\n",
    "            best_err, best = m, thr\n",
    "    return best, best_err\n",
    "\n",
    "\n",
    "# Настройка порогов с новым параметром min_len_credits\n",
    "val_rows = labels_df.groupby('show').head(2)\n",
    "best_i, err_i = tune_thr_one('intro', val_rows)\n",
    "best_c, err_c = tune_thr_one('credit', val_rows, min_len_credits=5)\n",
    "\n",
    "print(f\"thr_intro={best_i:.2f}  (MAE {err_i:.1f}s | \"\n",
    "      f\"thr_credit={best_c:.2f} (MAE {err_c:.1f}s)\")"
   ],
   "metadata": {
    "collapsed": false,
    "ExecuteTime": {
     "end_time": "2025-06-20T23:31:50.569670Z",
     "start_time": "2025-06-20T23:31:46.653798Z"
    }
   },
   "id": "e1bfd763f3000a70",
   "execution_count": 36
  },
  {
   "cell_type": "code",
   "outputs": [],
   "source": [
    "thr_i, thr_c = best_i, best_c"
   ],
   "metadata": {
    "collapsed": false,
    "ExecuteTime": {
     "end_time": "2025-06-20T23:31:56.770933Z",
     "start_time": "2025-06-20T23:31:56.764929Z"
    }
   },
   "id": "a43f8d56fa033a4d",
   "execution_count": 37
  },
  {
   "cell_type": "markdown",
   "source": [
    "## 8. Прогоняем все эпизоды и сохраняем CSV"
   ],
   "metadata": {
    "collapsed": false
   },
   "id": "5ec6a9484dd4da48"
  },
  {
   "cell_type": "code",
   "outputs": [
    {
     "name": "stderr",
     "output_type": "stream",
     "text": [
      "detect: 100%|██████████| 19/19 [00:00<00:00, 108.55it/s]\n"
     ]
    },
    {
     "data": {
      "text/plain": "    show                            episode  intro_end_sec  credits_start_sec\n0  show1  downton-abbey-season-1-episode-02             51               2940\n1  show1  downton-abbey-season-1-episode-03             47               2932\n2  show1  downton-abbey-season-1-episode-04             48               2832\n3  show1  downton-abbey-season-1-episode-05             41               2923\n4  show1  downton-abbey-season-1-episode-06             38               2885",
      "text/html": "<div>\n<style scoped>\n    .dataframe tbody tr th:only-of-type {\n        vertical-align: middle;\n    }\n\n    .dataframe tbody tr th {\n        vertical-align: top;\n    }\n\n    .dataframe thead th {\n        text-align: right;\n    }\n</style>\n<table border=\"1\" class=\"dataframe\">\n  <thead>\n    <tr style=\"text-align: right;\">\n      <th></th>\n      <th>show</th>\n      <th>episode</th>\n      <th>intro_end_sec</th>\n      <th>credits_start_sec</th>\n    </tr>\n  </thead>\n  <tbody>\n    <tr>\n      <th>0</th>\n      <td>show1</td>\n      <td>downton-abbey-season-1-episode-02</td>\n      <td>51</td>\n      <td>2940</td>\n    </tr>\n    <tr>\n      <th>1</th>\n      <td>show1</td>\n      <td>downton-abbey-season-1-episode-03</td>\n      <td>47</td>\n      <td>2932</td>\n    </tr>\n    <tr>\n      <th>2</th>\n      <td>show1</td>\n      <td>downton-abbey-season-1-episode-04</td>\n      <td>48</td>\n      <td>2832</td>\n    </tr>\n    <tr>\n      <th>3</th>\n      <td>show1</td>\n      <td>downton-abbey-season-1-episode-05</td>\n      <td>41</td>\n      <td>2923</td>\n    </tr>\n    <tr>\n      <th>4</th>\n      <td>show1</td>\n      <td>downton-abbey-season-1-episode-06</td>\n      <td>38</td>\n      <td>2885</td>\n    </tr>\n  </tbody>\n</table>\n</div>"
     },
     "execution_count": 38,
     "metadata": {},
     "output_type": "execute_result"
    }
   ],
   "source": [
    "# В основном цикле детекции используем min_len_credits=5\n",
    "rows_out = []\n",
    "for _, row in tqdm(labels_df.iterrows(), total=len(labels_df), desc='detect'):\n",
    "    wav = AUDIO_ROOT / row.show / f\"{row.episode}.wav\"\n",
    "    p = audio_probs_episode(row.show, row.episode, wav)\n",
    "    # Используем min_len_credits=5 для титров\n",
    "    ie, cs = detect_intro_credit(p, thr_i, thr_c, min_len_credits=5)\n",
    "    rows_out.append(dict(show=row.show, episode=row.episode,\n",
    "                         intro_end_sec=int(ie), credits_start_sec=int(cs)))\n",
    "out_df = pd.DataFrame(rows_out)\n",
    "out_df.to_csv('audio_detection_results.csv', index=False)\n",
    "out_df.head()\n"
   ],
   "metadata": {
    "collapsed": false,
    "ExecuteTime": {
     "end_time": "2025-06-20T23:31:58.445639Z",
     "start_time": "2025-06-20T23:31:58.243604Z"
    }
   },
   "id": "f47ac7b4fee2c233",
   "execution_count": 38
  },
  {
   "cell_type": "markdown",
   "source": [
    "## 9. Оценка тайм‑кодов (MAE в секундах)"
   ],
   "metadata": {
    "collapsed": false
   },
   "id": "6ad447a920adee08"
  },
  {
   "cell_type": "code",
   "outputs": [
    {
     "name": "stdout",
     "output_type": "stream",
     "text": [
      "MAE интро: 4.526315789473684 сек\n",
      "MAE титры: 15.31578947368421 сек\n"
     ]
    }
   ],
   "source": [
    "errs_i, errs_c = [], []\n",
    "for _, r in labels_df.iterrows():\n",
    "    p = audio_probs_episode(r.show, r.episode,\n",
    "                            AUDIO_ROOT / r.show / f\"{r.episode}.wav\")\n",
    "    ie, cs = detect_intro_credit(p, thr_i, thr_c)\n",
    "    errs_i.append(abs(ie - r.start_s))\n",
    "    errs_c.append(abs(cs - r.end_s))\n",
    "\n",
    "print(\"MAE интро:\", np.mean(errs_i), \"сек\")\n",
    "print(\"MAE титры:\", np.mean(errs_c), \"сек\")"
   ],
   "metadata": {
    "collapsed": false,
    "ExecuteTime": {
     "end_time": "2025-06-20T23:32:01.657683Z",
     "start_time": "2025-06-20T23:32:01.455686Z"
    }
   },
   "id": "107f6cdb27ee5423",
   "execution_count": 39
  },
  {
   "cell_type": "code",
   "outputs": [
    {
     "name": "stdout",
     "output_type": "stream",
     "text": [
      "MAE интро  4.5 с  | σ=4.6\n",
      "MAE титры  15.3 с | σ=13.2\n",
      "Точность (±5 с):  интро 73.7 %  | титры 26.3 %\n",
      "Средний IoU сегмента: 0.993\n",
      "Кадровые  P=0.995  R=0.998  F1=0.997\n"
     ]
    }
   ],
   "source": [
    "#  Вычисляем все метрики для каждой серии \n",
    "from collections import defaultdict\n",
    "\n",
    "SEG_TOL = 5  # «золотое окно»  ±5 с для точных попаданий\n",
    "\n",
    "\n",
    "def episode_metrics(row, thr_i, thr_c):\n",
    "    wav = AUDIO_ROOT / row.show / f\"{row.episode}.wav\"\n",
    "    p = audio_probs_episode(row.show, row.episode, wav)\n",
    "    ie, cs = detect_intro_credit(p, thr_i, thr_c)\n",
    "\n",
    "    # ошибки границ \n",
    "    err_i = abs(ie - row.start_s)\n",
    "    err_c = abs(cs - row.end_s)\n",
    "\n",
    "    # попадание в окно ±SEG_TOL\n",
    "    hit_i = err_i <= SEG_TOL\n",
    "    hit_c = err_c <= SEG_TOL\n",
    "\n",
    "    # IoU сегмента «основной контент»\n",
    "    pred_mask = np.zeros_like(p, dtype=bool)\n",
    "    pred_mask[ie:cs] = 1\n",
    "    true_mask = np.zeros_like(p, dtype=bool)\n",
    "    true_mask[row.start_s: row.end_s] = 1\n",
    "    iou = (pred_mask & true_mask).sum() / (pred_mask | true_mask).sum()\n",
    "\n",
    "    # кадровые метрики\n",
    "    TP = (pred_mask & true_mask).sum()\n",
    "    FP = (pred_mask & ~true_mask).sum()\n",
    "    FN = (~pred_mask & true_mask).sum()\n",
    "\n",
    "    return dict(err_intro=err_i, err_credit=err_c,\n",
    "                hit_intro=hit_i, hit_credit=hit_c,\n",
    "                iou=iou, TP=TP, FP=FP, FN=FN)\n",
    "\n",
    "\n",
    "stats = defaultdict(list)\n",
    "for _, r in labels_df.iterrows():\n",
    "    m = episode_metrics(r, thr_i, thr_c)\n",
    "    for k, v in m.items(): stats[k].append(v)\n",
    "\n",
    "# сводка\n",
    "import numpy as np\n",
    "\n",
    "P = sum(stats['TP']) / (sum(stats['TP']) + sum(stats['FP']))\n",
    "R = sum(stats['TP']) / (sum(stats['TP']) + sum(stats['FN']))\n",
    "F1 = 2 * P * R / (P + R)\n",
    "print(f\"MAE интро  {np.mean(stats['err_intro']):.1f} с  | σ={np.std(stats['err_intro']):.1f}\")\n",
    "print(f\"MAE титры  {np.mean(stats['err_credit']):.1f} с | σ={np.std(stats['err_credit']):.1f}\")\n",
    "print(f\"Точность (±{SEG_TOL} с):  интро {np.mean(stats['hit_intro']) * 100:.1f} %  | \"\n",
    "      f\"титры {np.mean(stats['hit_credit']) * 100:.1f} %\")\n",
    "print(f\"Средний IoU сегмента: {np.mean(stats['iou']):.3f}\")\n",
    "print(f\"Кадровые  P={P:.3f}  R={R:.3f}  F1={F1:.3f}\")\n"
   ],
   "metadata": {
    "collapsed": false,
    "ExecuteTime": {
     "end_time": "2025-06-20T23:32:17.063331Z",
     "start_time": "2025-06-20T23:32:16.886899Z"
    }
   },
   "id": "c35a4d96ce9ff670",
   "execution_count": 40
  },
  {
   "cell_type": "code",
   "outputs": [
    {
     "name": "stdout",
     "output_type": "stream",
     "text": [
      "Аудио-вероятности сохранены: data\\audio_probs\\p_audio_Mad.Men.S01E13.720p.BluRay.2CH.x264-PSA.npy\n"
     ]
    }
   ],
   "source": [
    "# %% ⏺  Сохранение вероятностей АУДИО-модели (1 точка = 1 сек)\n",
    "# ───────────────────────────────────────────────────────────────────\n",
    "import re, pathlib, numpy as np, librosa\n",
    "\n",
    "SAVE_DIR = pathlib.Path('data/audio_probs')\n",
    "SAVE_DIR.mkdir(parents=True, exist_ok=True)\n",
    "\n",
    "dur_sec = int(round(librosa.get_duration(filename=str(wav), sr=SR)))\n",
    "if abs(len(p) - dur_sec) > 1:\n",
    "    raise ValueError(f'len(p)={len(p)}  vs  duration={dur_sec} c — проверьте SR/HOP!')\n",
    "\n",
    "# если p короче на 1 сек, можно «добить» нулём, чтобы длины совпали\n",
    "if len(p) < dur_sec:  # редкий случай\n",
    "    p = np.pad(p, (0, dur_sec - len(p)), constant_values=p[-1])\n",
    "\n",
    "episode_id = re.sub(r'\\.wav$', '', wav.name)  # show1_s01e02\n",
    "np.save(SAVE_DIR / f'p_audio_{episode_id}.npy', p.astype('float32'))\n",
    "print(f'Аудио-вероятности сохранены: {SAVE_DIR / f\"p_audio_{episode_id}.npy\"}')\n"
   ],
   "metadata": {
    "collapsed": false,
    "ExecuteTime": {
     "end_time": "2025-06-20T23:32:21.139636Z",
     "start_time": "2025-06-20T23:32:21.103599Z"
    }
   },
   "id": "88ee2b79af9e5b0a",
   "execution_count": 41
  },
  {
   "cell_type": "markdown",
   "source": [
    "## 10. Визуализация для произвольного эпизода"
   ],
   "metadata": {
    "collapsed": false
   },
   "id": "6fcfd7611cfad0e9"
  },
  {
   "cell_type": "code",
   "outputs": [
    {
     "data": {
      "text/plain": "<Figure size 1500x400 with 1 Axes>",
      "image/png": "[encoded data removed]"
     },
     "metadata": {},
     "output_type": "display_data"
    }
   ],
   "source": [
    "idx = 0  # можно менять\n",
    "row = labels_df.iloc[idx]\n",
    "wav = AUDIO_ROOT / row.show / f\"{row.episode}.wav\"\n",
    "p = audio_probs_episode(row.show, row.episode, wav)\n",
    "ie, cs = detect_intro_credit(p, thr_i, thr_c)\n",
    "\n",
    "plt.figure(figsize=(15, 4))\n",
    "plt.plot(smooth_probs(p, 5), label='audio‑prob', lw=1)\n",
    "plt.axhline(0.4, ls='--', c='r', alpha=.5)\n",
    "plt.axvline(ie, c='g', lw=2)\n",
    "plt.axvline(cs, c='g', lw=2)\n",
    "plt.title(f\"{row.show}/{row.episode}\")\n",
    "plt.legend();\n",
    "plt.show()"
   ],
   "metadata": {
    "collapsed": false,
    "ExecuteTime": {
     "end_time": "2025-06-20T23:32:25.059473Z",
     "start_time": "2025-06-20T23:32:24.838440Z"
    }
   },
   "id": "138f0fc182d63eb3",
   "execution_count": 42
  },
  {
   "cell_type": "markdown",
   "id": "77dbf127",
   "metadata": {},
   "source": [
    "### Итоги\n",
    "* **Mel+логистическая регрессия** ловит ~70‑90% кадров интро/титров.\n",
    "* **Шаблон** (косинус) усиливает уверенность в чистой музыке, особенно при слабом вокале.\n",
    "* Средняя ошибка по тайм‑кодам — менее 1 минуты; пороги можно донастроить вручную или CRF‑сглаживанием.\n",
    "\n",
    "Далее эти вероятности `p_a(t)` легко объединить с визуальной (`p_v`) и текстовой (`p_t`) ветками любым из методов (majority, взвешенное среднее, CRF)."
   ]
  }
 ],
 "metadata": {
  "kernelspec": {
   "name": "python3",
   "language": "python",
   "display_name": "Python 3 (ipykernel)"
  }
 },
 "nbformat": 4,
 "nbformat_minor": 5
}
